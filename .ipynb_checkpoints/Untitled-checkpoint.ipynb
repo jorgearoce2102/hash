{
 "cells": [
  {
   "cell_type": "markdown",
   "id": "documented-underground",
   "metadata": {},
   "source": [
    "## Image Hashing\n",
    "\n",
    "Image Hashing est un encodeur pour \"hacher\" une image et les convertir en code afin de les comparer les un aux autres. \n",
    "Pour tester, telecharger une base de données d'autos [ici](https://ai.stanford.edu/~jkrause/cars/car_dataset.html)."
   ]
  },
  {
   "cell_type": "code",
   "execution_count": null,
   "id": "spoken-freeware",
   "metadata": {},
   "outputs": [],
   "source": [
    "# import tarfile\n",
    "    "
   ]
  }
 ],
 "metadata": {
  "kernelspec": {
   "display_name": "Python 3",
   "language": "python",
   "name": "python3"
  }
 },
 "nbformat": 4,
 "nbformat_minor": 5
}
