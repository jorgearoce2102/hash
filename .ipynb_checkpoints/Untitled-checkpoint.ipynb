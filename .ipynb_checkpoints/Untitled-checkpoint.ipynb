{
 "cells": [
  {
   "cell_type": "markdown",
   "id": "documented-underground",
   "metadata": {},
   "source": [
    "## Image Hashing\n",
    "\n",
<<<<<<< HEAD
    "Image Hashing est un encodeur pour \"hacher\" une image et les convertir en bitstring afin de les comparer les un aux autres. \n",
    "Pour tester, telecharger une base de données d'autos [ici](https://ai.stanford.edu/~jkrause/cars/car_dataset.html).\n",
    "\n",
    "Ouline\n",
    "\n",
    "    - Generate Transformations\n",
    "        - Rotation\n",
    "        - Translation\n",
    "        - Brightness\n",
    "        - Scaling\n",
    "        - Cropping\n",
    "        - Object overlap \n",
    "        - Mirror\n",
    "    - Generate Hash\n"
=======
    "Image Hashing est un encodeur pour \"hacher\" une image et les convertir en code afin de les comparer les un aux autres. \n",
    "Pour tester, telecharger une base de données d'autos [ici](https://ai.stanford.edu/~jkrause/cars/car_dataset.html)."
>>>>>>> c7c05fb... g new repo
   ]
  },
  {
   "cell_type": "code",
<<<<<<< HEAD
   "execution_count": 146,
=======
   "execution_count": null,
>>>>>>> c7c05fb... g new repo
   "id": "spoken-freeware",
   "metadata": {},
   "outputs": [],
   "source": [
<<<<<<< HEAD
    "from matplotlib import pyplot as plt\n",
    "#from matplotlib import image\n",
    "from PIL import Image, ImageEnhance\n",
    "from PIL.ImageOps import mirror\n",
    "import imagehash\n",
    "import time"
   ]
  },
  {
   "cell_type": "code",
   "execution_count": 18,
   "id": "derived-liability",
   "metadata": {},
   "outputs": [],
   "source": [
    "im = Image.open(\"cars_train/00001.jpg\")\n"
   ]
  },
  {
   "cell_type": "code",
   "execution_count": 142,
   "id": "unusual-adapter",
   "metadata": {},
   "outputs": [],
   "source": [
    "#Transformations \n",
    "\n",
    "#completely different\n",
    "#im2 = Image.open(\"cars_train/00122.jpg\")\n",
    "\n",
    "#rotation\n",
    "im_rot = im.rotate(45)\n",
    "\n",
    "#Resize to 50%\n",
    "newsize = (im.size[0]//2, im.size[1]//2)\n",
    "im_rez = im.resize(newsize, resample = 1)\n",
    "\n",
    "#Brighness to factor 1.5\n",
    "factor = 1.5\n",
    "im_br = ImageEnhance.Brightness(im).enhance(factor)\n",
    "\n",
    "#mirror\n",
    "im_m = mirror(im)\n",
    "\n",
    "#object crop\n",
    "left, top, right, bottom = 155, 65, 360, 270\n",
    "im_cr = im.crop((left, top, right, bottom))\n",
    "\n",
    "transformed = [im_rot, im_rez, im_br, im_m, im_cr,] # im2]"
   ]
  },
  {
   "cell_type": "code",
   "execution_count": 143,
   "id": "handed-hungary",
   "metadata": {},
   "outputs": [],
   "source": [
    "#Hashers\n",
    "\n",
    "def create_hashers():\n",
    "    hashers = []\n",
    "    \n",
    "    hashers.append((imagehash.average_hash, \"average_hash\"))\n",
    "    hashers.append((imagehash.phash,\"phash\"))\n",
    "    hashers.append((imagehash.dhash, \"dhash\"))\n",
    "    hashers.append((imagehash.whash, \"whash\"))\n",
    "#     hashers.append((lambda img: imagehash.whash(img, mode='db4'), \"whash\"))\n",
    "    hashers.append((imagehash.colorhash, \"colorhash\"))\n",
    "    hashers.append((imagehash.crop_resistant_hash, \"crop_resistant_hash\"))\n",
    "    \n",
    "    return hashers"
   ]
  },
  {
   "cell_type": "code",
   "execution_count": 150,
   "id": "checked-inspector",
   "metadata": {},
   "outputs": [
    {
     "name": "stdout",
     "output_type": "stream",
     "text": [
      "-------------Transformed----------------\n",
      "Starting hash type: average_hash\n",
      "Score 23 in -0.0068 secondes\n",
      "Starting hash type: phash\n",
      "Score 32 in -0.0063 secondes\n",
      "Starting hash type: dhash\n",
      "Score 30 in -0.0041 secondes\n",
      "Starting hash type: whash\n",
      "Score 24 in -0.0331 secondes\n",
      "Starting hash type: colorhash\n",
      "Score 2 in -0.0429 secondes\n",
      "Starting hash type: crop_resistant_hash\n",
      "Score 9 in -8.1293 secondes\n",
      "-------------Transformed----------------\n",
      "Starting hash type: average_hash\n",
      "Score 0 in -0.0029 secondes\n",
      "Starting hash type: phash\n",
      "Score 0 in -0.0030 secondes\n",
      "Starting hash type: dhash\n",
      "Score 0 in -0.0020 secondes\n",
      "Starting hash type: whash\n",
      "Score 0 in -0.0212 secondes\n",
      "Starting hash type: colorhash\n",
      "Score 0 in -0.0292 secondes\n",
      "Starting hash type: crop_resistant_hash\n",
      "Score 0.029513888888889284 in -9.4290 secondes\n",
      "-------------Transformed----------------\n",
      "Starting hash type: average_hash\n",
      "Score 5 in -0.0037 secondes\n",
      "Starting hash type: phash\n",
      "Score 8 in -0.0042 secondes\n",
      "Starting hash type: dhash\n",
      "Score 2 in -0.0029 secondes\n",
      "Starting hash type: whash\n",
      "Score 0 in -0.0328 secondes\n",
      "Starting hash type: colorhash\n",
      "Score 0 in -0.0454 secondes\n",
      "Starting hash type: crop_resistant_hash\n",
      "Score 7.1015625 in -8.9188 secondes\n",
      "-------------Transformed----------------\n",
      "Starting hash type: average_hash\n",
      "Score 18 in -0.0034 secondes\n",
      "Starting hash type: phash\n",
      "Score 32 in -0.0044 secondes\n",
      "Starting hash type: dhash\n",
      "Score 23 in -0.0032 secondes\n",
      "Starting hash type: whash\n",
      "Score 20 in -0.0317 secondes\n",
      "Starting hash type: colorhash\n",
      "Score 0 in -0.0521 secondes\n",
      "Starting hash type: crop_resistant_hash\n",
      "Score 9 in -8.9985 secondes\n",
      "-------------Transformed----------------\n",
      "Starting hash type: average_hash\n",
      "Score 33 in -0.0030 secondes\n",
      "Starting hash type: phash\n",
      "Score 32 in -0.0034 secondes\n",
      "Starting hash type: dhash\n",
      "Score 31 in -0.0029 secondes\n",
      "Starting hash type: whash\n",
      "Score 28 in -0.0288 secondes\n",
      "Starting hash type: colorhash\n",
      "Score 3 in -0.0450 secondes\n",
      "Starting hash type: crop_resistant_hash\n",
      "Score 7.1796875 in -8.9855 secondes\n",
      "-------------Transformed----------------\n",
      "Starting hash type: average_hash\n",
      "Score 32 in -0.0026 secondes\n",
      "Starting hash type: phash\n",
      "Score 36 in -0.0030 secondes\n",
      "Starting hash type: dhash\n",
      "Score 31 in -0.0021 secondes\n",
      "Starting hash type: whash\n",
      "Score 34 in -0.0213 secondes\n",
      "Starting hash type: colorhash\n",
      "Score 7 in -0.0302 secondes\n",
      "Starting hash type: crop_resistant_hash\n",
      "Score 9 in -6.9980 secondes\n"
     ]
    }
   ],
   "source": [
    "#Hashed Image matrix\n",
    "\n",
    "hashers = create_hashers()\n",
    "\n",
    "for t in transformed:\n",
    "    print(\"-------------Transformed----------------\")\n",
    "    \n",
    "    for h in hashers:\n",
    "        tic = time.perf_counter()\n",
    "        print(\"Starting hash type: {}\".format(h[1]))\n",
    "        diff = h[0](im) - h[0](t)\n",
    "        toc = time.perf_counter()\n",
    "        print(\"Score {0} in {1:0.4f} secondes\".format(diff, toc - tic))\n",
    "    "
   ]
  },
  {
   "cell_type": "code",
   "execution_count": 122,
   "id": "basic-output",
   "metadata": {},
   "outputs": [
    {
     "data": {
      "text/plain": [
       "array([23,  0,  5, 18, 33])"
      ]
     },
     "execution_count": 122,
     "metadata": {},
     "output_type": "execute_result"
    }
   ],
   "source": [
    "np.array(percentage)"
   ]
  },
  {
   "cell_type": "code",
   "execution_count": null,
   "id": "patient-innocent",
   "metadata": {},
   "outputs": [],
   "source": []
=======
    "# import tarfile\n",
    "    "
   ]
>>>>>>> c7c05fb... g new repo
  }
 ],
 "metadata": {
  "kernelspec": {
   "display_name": "Python 3",
   "language": "python",
   "name": "python3"
<<<<<<< HEAD
  },
  "language_info": {
   "codemirror_mode": {
    "name": "ipython",
    "version": 3
   },
   "file_extension": ".py",
   "mimetype": "text/x-python",
   "name": "python",
   "nbconvert_exporter": "python",
   "pygments_lexer": "ipython3",
   "version": "3.8.5"
=======
>>>>>>> c7c05fb... g new repo
  }
 },
 "nbformat": 4,
 "nbformat_minor": 5
}
