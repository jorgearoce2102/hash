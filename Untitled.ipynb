{
 "cells": [
  {
   "cell_type": "markdown",
   "id": "documented-underground",
   "metadata": {},
   "source": [
    "## Image Hashing\n",
    "\n",
    "Image Hashing est un encodeur pour \"hacher\" une image et les convertir en bitstring afin de les comparer les un aux autres. \n",
    "Pour tester, telecharger une base de données d'autos [ici](https://ai.stanford.edu/~jkrause/cars/car_dataset.html).\n",
    "\n",
    "Ouline\n",
    "\n",
    "    - Generate Transformations\n",
    "        - Rotation\n",
    "        - Translation\n",
    "        - Brightness\n",
    "        - Scaling\n",
    "        - Cropping\n",
    "        - Object overlap \n",
    "        - Mirror\n",
    "    - Generate Hash\n"
   ]
  },
  {
   "cell_type": "code",
   "execution_count": 146,
   "id": "spoken-freeware",
   "metadata": {},
   "outputs": [],
   "source": [
    "from matplotlib import pyplot as plt\n",
    "#from matplotlib import image\n",
    "from PIL import Image, ImageEnhance\n",
    "from PIL.ImageOps import mirror\n",
    "import imagehash\n",
    "import time"
   ]
  },
  {
   "cell_type": "code",
   "execution_count": 18,
   "id": "derived-liability",
   "metadata": {},
   "outputs": [],
   "source": [
    "im = Image.open(\"cars_train/00001.jpg\")\n"
   ]
  },
  {
   "cell_type": "code",
   "execution_count": 158,
   "id": "unusual-adapter",
   "metadata": {},
   "outputs": [],
   "source": [
    "#Transformations \n",
    "\n",
    "#completely different\n",
    "im2 = Image.open(\"cars_train/00150.jpg\")\n",
    "\n",
    "#rotation\n",
    "im_rot = im.rotate(45)\n",
    "\n",
    "#Resize to 50%\n",
    "newsize = (im.size[0]//4, im.size[1]//4)\n",
    "im_rez = im.resize(newsize, resample = 1)\n",
    "\n",
    "#Brighness to factor 1.5\n",
    "factor = 1.5\n",
    "im_br = ImageEnhance.Brightness(im).enhance(factor)\n",
    "\n",
    "#mirror\n",
    "im_m = mirror(im)\n",
    "\n",
    "#object crop\n",
    "left, top, right, bottom = 155, 65, 360, 270\n",
    "im_cr = im.crop((left, top, right, bottom))\n",
    "\n",
    "transformed = [im_rot, im_rez, im_br, im_m, im_cr, im2]"
   ]
  },
  {
   "cell_type": "code",
   "execution_count": 154,
   "id": "intensive-combat",
   "metadata": {},
   "outputs": [],
   "source": [
    "#Hashers\n",
    "\n",
    "def create_hashers():\n",
    "    hashers = []\n",
    "    \n",
    "    hashers.append((imagehash.average_hash, \"average_hash\"))\n",
    "    hashers.append((imagehash.phash,\"phash\"))\n",
    "    hashers.append((imagehash.dhash, \"dhash\"))\n",
    "    hashers.append((imagehash.whash, \"whash\"))\n",
    "#     hashers.append((lambda img: imagehash.whash(img, mode='db4'), \"whash\"))\n",
    "    hashers.append((imagehash.colorhash, \"colorhash\"))\n",
    "    hashers.append((imagehash.crop_resistant_hash, \"crop_resistant_hash\"))\n",
    "    \n",
    "    return hashers"
   ]
  },
  {
   "cell_type": "code",
   "execution_count": 159,
   "id": "confused-ancient",
   "metadata": {},
   "outputs": [
    {
     "name": "stdout",
     "output_type": "stream",
     "text": [
      "-------------Hash----------------\n",
      "Starting hash type: average_hash\n",
      "Score 23 in 0.0095 secondes\n",
      "Score 0 in 0.0049 secondes\n",
      "Score 5 in 0.0035 secondes\n",
      "Score 18 in 0.0033 secondes\n",
      "Score 33 in 0.0023 secondes\n",
      "Score 32 in 0.0080 secondes\n",
      "-------------Hash----------------\n",
      "Starting hash type: phash\n",
      "Score 32 in 0.0082 secondes\n",
      "Score 0 in 0.0052 secondes\n",
      "Score 8 in 0.0068 secondes\n",
      "Score 32 in 0.0053 secondes\n",
      "Score 32 in 0.0031 secondes\n",
      "Score 34 in 0.0060 secondes\n",
      "-------------Hash----------------\n",
      "Starting hash type: dhash\n",
      "Score 30 in 0.0032 secondes\n",
      "Score 0 in 0.0018 secondes\n",
      "Score 2 in 0.0030 secondes\n",
      "Score 23 in 0.0028 secondes\n",
      "Score 31 in 0.0019 secondes\n",
      "Score 35 in 0.0033 secondes\n",
      "-------------Hash----------------\n",
      "Starting hash type: whash\n",
      "Score 24 in 0.0302 secondes\n",
      "Score 0 in 0.0165 secondes\n",
      "Score 0 in 0.0264 secondes\n",
      "Score 20 in 0.0293 secondes\n",
      "Score 28 in 0.0215 secondes\n",
      "Score 32 in 0.0282 secondes\n",
      "-------------Hash----------------\n",
      "Starting hash type: colorhash\n",
      "Score 2 in 0.0417 secondes\n",
      "Score 0 in 0.0260 secondes\n",
      "Score 0 in 0.0454 secondes\n",
      "Score 0 in 0.0472 secondes\n",
      "Score 3 in 0.0302 secondes\n",
      "Score 2 in 0.0547 secondes\n",
      "-------------Hash----------------\n",
      "Starting hash type: crop_resistant_hash\n",
      "Score 9 in 8.4772 secondes\n",
      "Score 2.055803571428571 in 9.2306 secondes\n",
      "Score 7.1015625 in 8.8629 secondes\n",
      "Score 9 in 9.0369 secondes\n",
      "Score 7.1796875 in 8.6521 secondes\n",
      "Score 9 in 8.3745 secondes\n"
     ]
    }
   ],
   "source": [
    "#Hashed Image matrix\n",
    "\n",
    "hashers = create_hashers()\n",
    "\n",
    "for h in hashers:\n",
    "    print(\"-------------Hash----------------\")\n",
    "    print(\"Starting hash type: {}\".format(h[1]))\n",
    "    for t in transformed:\n",
    "        tic = time.perf_counter()\n",
    "        \n",
    "        diff = h[0](im) - h[0](t)\n",
    "        toc = time.perf_counter()\n",
    "        print(\"Score {0} in {1:0.4f} secondes\".format(diff, toc - tic))\n",
    "    "
   ]
  },
  {
   "cell_type": "code",
   "execution_count": 122,
   "id": "native-reality",
   "metadata": {},
   "outputs": [
    {
     "data": {
      "text/plain": [
       "array([23,  0,  5, 18, 33])"
      ]
     },
     "execution_count": 122,
     "metadata": {},
     "output_type": "execute_result"
    }
   ],
   "source": [
    "np.array(percentage)"
   ]
  },
  {
   "cell_type": "code",
   "execution_count": null,
   "id": "initial-spectrum",
   "metadata": {},
   "outputs": [],
   "source": []
  }
 ],
 "metadata": {
  "kernelspec": {
   "display_name": "Python 3",
   "language": "python",
   "name": "python3"
  },
  "language_info": {
   "codemirror_mode": {
    "name": "ipython",
    "version": 3
   },
   "file_extension": ".py",
   "mimetype": "text/x-python",
   "name": "python",
   "nbconvert_exporter": "python",
   "pygments_lexer": "ipython3",
   "version": "3.8.5"
  }
 },
 "nbformat": 4,
 "nbformat_minor": 5
}
