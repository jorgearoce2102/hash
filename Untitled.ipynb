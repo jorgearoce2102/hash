{
 "cells": [
  {
   "cell_type": "markdown",
   "id": "documented-underground",
   "metadata": {},
   "source": [
    "## Image Hashing\n",
    "\n",
    "Image Hashing est un encodeur pour \"hacher\" une image et les convertir en bitstring afin de les comparer les un aux autres. \n",
    "Pour tester, telecharger une base de données d'autos [ici](https://ai.stanford.edu/~jkrause/cars/car_dataset.html).\n",
    "\n",
    "Ouline\n",
    "\n",
    "    - Generate Transformations\n",
    "        - Rotation\n",
    "        - Translation\n",
    "        - Brightness\n",
    "        - GrayScale\n",
    "        - Blur (Gaussian transformation)\n",
    "        - Scaling\n",
    "        - Cropping\n",
    "        - Object overlap \n",
    "        - Mirror"
   ]
  },
  {
   "cell_type": "code",
   "execution_count": 29,
   "id": "spoken-freeware",
   "metadata": {},
   "outputs": [],
   "source": [
    "from matplotlib import pyplot as plt\n",
    "from matplotlib import image\n",
    "\n"
   ]
  },
  {
   "cell_type": "code",
   "execution_count": 34,
   "id": "derived-liability",
   "metadata": {},
   "outputs": [],
   "source": [
    "#\n"
   ]
  },
  {
   "cell_type": "code",
   "execution_count": null,
   "id": "unusual-adapter",
   "metadata": {},
   "outputs": [],
   "source": []
  }
 ],
 "metadata": {
  "kernelspec": {
   "display_name": "Python 3",
   "language": "python",
   "name": "python3"
  },
  "language_info": {
   "codemirror_mode": {
    "name": "ipython",
    "version": 3
   },
   "file_extension": ".py",
   "mimetype": "text/x-python",
   "name": "python",
   "nbconvert_exporter": "python",
   "pygments_lexer": "ipython3",
   "version": "3.8.5"
  }
 },
 "nbformat": 4,
 "nbformat_minor": 5
}
